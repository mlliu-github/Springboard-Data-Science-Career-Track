{
 "cells": [
  {
   "cell_type": "code",
   "execution_count": 235,
   "metadata": {},
   "outputs": [],
   "source": [
    "from collections import Counter\n",
    "import pandas as pd\n",
    "from IPython.display import display, HTML"
   ]
  },
  {
   "cell_type": "markdown",
   "metadata": {},
   "source": [
    "# Merging csv files into one datas"
   ]
  },
  {
   "cell_type": "code",
   "execution_count": 236,
   "metadata": {},
   "outputs": [],
   "source": [
    "devices = pd.read_csv('C:/Users/melin/Documents/Springboard Data Science Career Track/Capstone Projects/Capstone Project 1/icij-imddb-2019-07-09/devices-1562662526.csv')\n",
    "manufacturers = pd.read_csv('C:/Users/melin/Documents/Springboard Data Science Career Track/Capstone Projects/Capstone Project 1/icij-imddb-2019-07-09/manufacturers-1562662522.csv')\n",
    "events =  pd.read_csv('C:/Users/melin/Documents/Springboard Data Science Career Track/Capstone Projects/Capstone Project 1/icij-imddb-2019-07-09/events-1562662544.csv')"
   ]
  },
  {
   "cell_type": "code",
   "execution_count": 237,
   "metadata": {},
   "outputs": [],
   "source": [
    "## merging devices and manufacturers dataframes\n",
    "\n",
    "#renaming columns in devices dataframe\n",
    "devices.rename(columns={\"id\": \"device_id\"}, inplace=True)\n",
    "devices.rename(columns={\"name\": \"device_name\"}, inplace=True)\n",
    "devices.rename(columns={\"slug\": \"device_slug\"}, inplace=True)\n",
    "devices.rename(columns={\"created_at\": \"device_created_at\"}, inplace=True)\n",
    "devices.rename(columns={\"updated_at\": \"device_updated_at\"}, inplace=True)\n",
    "\n",
    "#renaming columns in manufacturers dataframe\n",
    "manufacturers.rename(columns={\"id\": \"manufacturer_id\"}, inplace=True)\n",
    "manufacturers.rename(columns={\"name\": \"manufacturer_name\"}, inplace=True)\n",
    "manufacturers.rename(columns={\"slug\": \"manufacturer_slug\"}, inplace=True)\n",
    "manufacturers.rename(columns={\"created_at\": \"manufacturer_created_at\"}, inplace=True)\n",
    "manufacturers.rename(columns={\"updated_at\": \"manufacturer_updated_at\"}, inplace=True)\n",
    "\n",
    "df = pd.merge(devices,\n",
    "                 manufacturers,\n",
    "                 on='manufacturer_id',\n",
    "                 how='outer')"
   ]
  },
  {
   "cell_type": "code",
   "execution_count": 238,
   "metadata": {},
   "outputs": [],
   "source": [
    "## merging df and events dataframes\n",
    "\n",
    "#renaming columns in events dataframe (indicating which original dataset they came from before the merging of datasets)\n",
    "df.rename(columns={\"number\": \"device_number\"}, inplace=True)\n",
    "df.rename(columns={\"country\": \"device_country\"}, inplace=True)\n",
    "df.rename(columns={\"source\": \"manufacturer_source\"}, inplace=True)\n",
    "\n",
    "#renaming columns in events dataframe\n",
    "events.rename(columns={\"id\": \"event_id\"}, inplace=True)\n",
    "events.rename(columns={\"country\": \"event_country\"}, inplace=True)\n",
    "events.rename(columns={\"source\": \"event_source\"}, inplace=True)\n",
    "events.rename(columns={\"number\": \"event_number\"}, inplace=True)\n",
    "events.rename(columns={\"slug\": \"event_slug\"}, inplace=True)\n",
    "events.rename(columns={\"created_at\": \"event_created_at\"}, inplace=True)\n",
    "events.rename(columns={\"updated_at\": \"event_updated_at\"}, inplace=True)\n",
    "\n",
    "df_final = pd.merge(df,\n",
    "                 events,\n",
    "                 on='device_id',\n",
    "                 how='outer')"
   ]
  },
  {
   "cell_type": "markdown",
   "metadata": {},
   "source": [
    "# Dealing with Columns with High Missing Percentage"
   ]
  },
  {
   "cell_type": "code",
   "execution_count": 239,
   "metadata": {},
   "outputs": [],
   "source": [
    "#Remove columns with missing percentage of 60% or more\n",
    "df_final = df_final.loc[:, df_final.isnull().mean() < .6]"
   ]
  },
  {
   "cell_type": "markdown",
   "metadata": {},
   "source": [
    "# Manually Remove Redundant Columns"
   ]
  },
  {
   "cell_type": "code",
   "execution_count": 240,
   "metadata": {},
   "outputs": [],
   "source": [
    "#Remove columns that have no relations to the outcome column, type (Event Type)\n",
    "df_final = df_final.drop(['device_id', 'manufacturer_id', 'device_number', 'device_created_at', 'device_updated_at', 'address', 'manufacturer_created_at', 'manufacturer_updated_at', 'event_id', 'authorities_link', 'date_initiated_by_firm', 'uid', 'uid_hash', 'url', 'event_created_at', 'event_updated_at'], axis = 1)"
   ]
  },
  {
   "cell_type": "markdown",
   "metadata": {},
   "source": [
    "# Exploring Word Frequency of Descriptive Column Texts"
   ]
  },
  {
   "cell_type": "code",
   "execution_count": 241,
   "metadata": {},
   "outputs": [],
   "source": [
    "#Create copy of the df_final dataset to explore the descriptive columns\n",
    "df_final_copy = df_final \n",
    "\n",
    "#Convert texts in descriptive columns (description, action, data_notes, icij_notes, and reason) to lowercase\n",
    "df_final_copy['description'] = df_final_copy['description'].str.lower()\n",
    "df_final_copy['action'] = df_final_copy['action'].str.lower()\n",
    "df_final_copy['data_notes'] = df_final_copy['data_notes'].str.lower()\n",
    "df_final_copy['icij_notes'] = df_final_copy['icij_notes'].str.lower()\n",
    "df_final_copy['reason'] = df_final_copy['reason'].str.lower()\n",
    "\n",
    "#Remove null from columns\n",
    "df_final_copy['description'].dropna(inplace=True)\n",
    "df_final_copy['action'].dropna(inplace=True)\n",
    "df_final_copy['data_notes'].dropna(inplace=True)\n",
    "df_final_copy['icij_notes'].dropna(inplace=True)\n",
    "df_final_copy['reason'].dropna(inplace=True)"
   ]
  },
  {
   "cell_type": "code",
   "execution_count": 242,
   "metadata": {},
   "outputs": [
    {
     "data": {
      "text/plain": [
       "[('the', 51140), ('||', 50935), ('and', 40130), ('for', 28725), ('of', 26126)]"
      ]
     },
     "execution_count": 242,
     "metadata": {},
     "output_type": "execute_result"
    }
   ],
   "source": [
    "#Count the 5 most frequent words from descriptive columns\n",
    "Counter(\" \".join(df_final_copy['description']).split()).most_common(5) #description column"
   ]
  },
  {
   "cell_type": "code",
   "execution_count": 243,
   "metadata": {},
   "outputs": [
    {
     "data": {
      "text/plain": [
       "[('the', 297063), ('to', 173801), ('and', 109807), ('of', 97222), ('a', 49248)]"
      ]
     },
     "execution_count": 243,
     "metadata": {},
     "output_type": "execute_result"
    }
   ],
   "source": [
    "Counter(\" \".join(df_final_copy['action']).split()).most_common(5) #action column"
   ]
  },
  {
   "cell_type": "code",
   "execution_count": 244,
   "metadata": {},
   "outputs": [
    {
     "data": {
      "text/plain": [
       "[('product', 37331),\n",
       " ('-', 37013),\n",
       " ('code', 35533),\n",
       " ('the', 27743),\n",
       " ('of', 12856)]"
      ]
     },
     "execution_count": 244,
     "metadata": {},
     "output_type": "execute_result"
    }
   ],
   "source": [
    "Counter(\" \".join(df_final_copy['data_notes']).split()).most_common(5) #data_notes column"
   ]
  },
  {
   "cell_type": "code",
   "execution_count": 245,
   "metadata": {},
   "outputs": [
    {
     "data": {
      "text/plain": [
       "[('the', 735693),\n",
       " ('parent', 328713),\n",
       " ('data', 292891),\n",
       " ('company', 292887),\n",
       " ('from', 273822)]"
      ]
     },
     "execution_count": 245,
     "metadata": {},
     "output_type": "execute_result"
    }
   ],
   "source": [
    "Counter(\" \".join(df_final_copy['icij_notes']).split()).most_common(5) #icij_notes column"
   ]
  },
  {
   "cell_type": "code",
   "execution_count": 246,
   "metadata": {},
   "outputs": [
    {
     "data": {
      "text/plain": [
       "[('the', 194711), ('of', 76594), ('to', 59645), ('a', 49291), ('in', 45966)]"
      ]
     },
     "execution_count": 246,
     "metadata": {},
     "output_type": "execute_result"
    }
   ],
   "source": [
    "Counter(\" \".join(df_final_copy['reason']).split()).most_common(5) #reason column"
   ]
  },
  {
   "cell_type": "code",
   "execution_count": 247,
   "metadata": {},
   "outputs": [],
   "source": [
    "#The description, action, and reason columns will be dropped from df_final as they contain largely stop words or symbols as the top five most frequent words\n",
    "df_final = df_final.drop(['description', 'action', 'reason'], axis = 1)"
   ]
  },
  {
   "cell_type": "markdown",
   "metadata": {},
   "source": [
    "# Check and Reorganize Values of Columns"
   ]
  },
  {
   "cell_type": "code",
   "execution_count": 248,
   "metadata": {},
   "outputs": [
    {
     "data": {
      "text/plain": [
       "Class 2                    31282\n",
       "II                          8216\n",
       "III                         4705\n",
       "Class 1                     2483\n",
       "Class II                    2336\n",
       "Class 3                     2058\n",
       "Class I                      907\n",
       "I                            632\n",
       "Class III                    327\n",
       "Unclassified Correction        3\n",
       "Voluntary recall               1\n",
       "Name: action_classification, dtype: int64"
      ]
     },
     "execution_count": 248,
     "metadata": {},
     "output_type": "execute_result"
    }
   ],
   "source": [
    "#Checking the value counts of certain columns in df_final\n",
    "df_final['action_classification'].value_counts() #action_classification column"
   ]
  },
  {
   "cell_type": "code",
   "execution_count": 249,
   "metadata": {},
   "outputs": [
    {
     "data": {
      "text/plain": [
       "Recall                   65242\n",
       "Field Safety Notice      36182\n",
       "Recall / Safety Alert     4321\n",
       "Safety alert              3828\n",
       "Name: type, dtype: int64"
      ]
     },
     "execution_count": 249,
     "metadata": {},
     "output_type": "execute_result"
    }
   ],
   "source": [
    "df_final['type'].value_counts() #type column"
   ]
  },
  {
   "cell_type": "code",
   "execution_count": 250,
   "metadata": {},
   "outputs": [],
   "source": [
    "#Changing varied-written values of action_classification into uniform values (0 - No classification, 1 - CLass 1, 2 - Class 2, 3 - Class 3)\n",
    "df_final['action_classification'].fillna('0', inplace = True) \n",
    "df_final[['action_classification']] = df_final[['action_classification']].replace(dict.fromkeys(['I', 'Class I', 'Class 1'], '1'))\n",
    "df_final[['action_classification']] = df_final[['action_classification']].replace(dict.fromkeys(['II','Class II', 'Class 2'], '2'))\n",
    "df_final[['action_classification']] = df_final[['action_classification']].replace(dict.fromkeys(['III', 'Class III', 'Class 3'], '3'))\n",
    "\n",
    "#Removing values of Unclassified Correction and Voluntary recall from action_classification column (as there are only a handful, their removal will not affect the final analysis of the data)\n",
    "df_final = df_final[~(df_final[\"action_classification\"].isin(['Unclassified Correction','Voluntary recall']))]"
   ]
  },
  {
   "cell_type": "code",
   "execution_count": 251,
   "metadata": {},
   "outputs": [],
   "source": [
    "#Changing values of type column into binary values (1 - recall, 0 - no recall)\n",
    "df_final[['type']] = df_final[['type']].replace(dict.fromkeys(['Recall', 'Recall / Safety Alert'], '1'))\n",
    "df_final[['type']] = df_final[['type']].replace(dict.fromkeys(['Field Safety Notice', 'Safety alert'], '0'))\n",
    "\n",
    "#Remove rows of missing values as type is the outcome variable\n",
    "df_final = df_final[df_final['type'].notnull()]"
   ]
  },
  {
   "cell_type": "markdown",
   "metadata": {},
   "source": [
    "# Changing Data Types of Certain Columns"
   ]
  },
  {
   "cell_type": "code",
   "execution_count": 252,
   "metadata": {},
   "outputs": [],
   "source": [
    "#Changing action_classification and type from object into int\n",
    "df_final['action_classification'] = df_final['action_classification'].astype(int)\n",
    "df_final['type'] = df_final['type'].astype(int)"
   ]
  },
  {
   "cell_type": "markdown",
   "metadata": {},
   "source": [
    "# Changing All Null Values of Object Columns to 'None'"
   ]
  },
  {
   "cell_type": "code",
   "execution_count": 253,
   "metadata": {},
   "outputs": [],
   "source": [
    "#Replace null values of object columns with string value, 'None'\n",
    "df_final.fillna(value='None', inplace=True)"
   ]
  },
  {
   "cell_type": "markdown",
   "metadata": {},
   "source": [
    "# Export Final Dataset into csv"
   ]
  },
  {
   "cell_type": "code",
   "execution_count": 254,
   "metadata": {},
   "outputs": [],
   "source": [
    "df_final.to_csv (r'C:/Users/melin/Documents/Springboard Data Science Career Track/Capstone Projects/Capstone Project 1/df_final.csv', index = False, header=True)"
   ]
  }
 ],
 "metadata": {
  "kernelspec": {
   "display_name": "Python 3",
   "language": "python",
   "name": "python3"
  },
  "language_info": {
   "codemirror_mode": {
    "name": "ipython",
    "version": 3
   },
   "file_extension": ".py",
   "mimetype": "text/x-python",
   "name": "python",
   "nbconvert_exporter": "python",
   "pygments_lexer": "ipython3",
   "version": "3.6.9"
  }
 },
 "nbformat": 4,
 "nbformat_minor": 2
}
