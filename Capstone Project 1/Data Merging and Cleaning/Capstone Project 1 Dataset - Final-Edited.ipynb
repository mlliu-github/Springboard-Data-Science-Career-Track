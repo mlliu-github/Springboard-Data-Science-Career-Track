{
 "cells": [
  {
   "cell_type": "markdown",
   "metadata": {},
   "source": [
    "# Import Required Libraries"
   ]
  },
  {
   "cell_type": "code",
   "execution_count": 45,
   "metadata": {},
   "outputs": [],
   "source": [
    "import pandas as pd\n",
    "from IPython.display import display, HTML\n",
    "import nltk\n",
    "from nltk.tokenize import word_tokenize\n",
    "from nltk.stem import PorterStemmer \n",
    "from nltk.corpus import stopwords\n",
    "import re"
   ]
  },
  {
   "cell_type": "markdown",
   "metadata": {},
   "source": [
    "# Merging csv files into one datas"
   ]
  },
  {
   "cell_type": "code",
   "execution_count": 46,
   "metadata": {},
   "outputs": [],
   "source": [
    "#Loading datasets\n",
    "devices = pd.read_csv('C:/Users/melin/Documents/Springboard Data Science Career Track/Capstone Projects/Capstone Project 1/icij-imddb-2019-07-09/devices-1562662526.csv')\n",
    "manufacturers = pd.read_csv('C:/Users/melin/Documents/Springboard Data Science Career Track/Capstone Projects/Capstone Project 1/icij-imddb-2019-07-09/manufacturers-1562662522.csv')\n",
    "events =  pd.read_csv('C:/Users/melin/Documents/Springboard Data Science Career Track/Capstone Projects/Capstone Project 1/icij-imddb-2019-07-09/events-1562662544.csv')"
   ]
  },
  {
   "cell_type": "code",
   "execution_count": 47,
   "metadata": {},
   "outputs": [
    {
     "data": {
      "text/plain": [
       "(104066, 15)"
      ]
     },
     "execution_count": 47,
     "metadata": {},
     "output_type": "execute_result"
    }
   ],
   "source": [
    "#Check shapes of devices, manufacturers, and events datasets\n",
    "devices.shape"
   ]
  },
  {
   "cell_type": "code",
   "execution_count": 48,
   "metadata": {},
   "outputs": [
    {
     "data": {
      "text/plain": [
       "(26013, 10)"
      ]
     },
     "execution_count": 48,
     "metadata": {},
     "output_type": "execute_result"
    }
   ],
   "source": [
    "manufacturers.shape"
   ]
  },
  {
   "cell_type": "code",
   "execution_count": 49,
   "metadata": {},
   "outputs": [
    {
     "data": {
      "text/plain": [
       "(109574, 30)"
      ]
     },
     "execution_count": 49,
     "metadata": {},
     "output_type": "execute_result"
    }
   ],
   "source": [
    "events.shape"
   ]
  },
  {
   "cell_type": "code",
   "execution_count": 50,
   "metadata": {},
   "outputs": [],
   "source": [
    "## merging devices and manufacturers dataframes\n",
    "\n",
    "#renaming columns in devices dataframe\n",
    "devices.rename(columns={\"id\": \"device_id\"}, inplace=True)\n",
    "devices.rename(columns={\"name\": \"device_name\"}, inplace=True)\n",
    "devices.rename(columns={\"slug\": \"device_slug\"}, inplace=True)\n",
    "devices.rename(columns={\"created_at\": \"device_created_at\"}, inplace=True)\n",
    "devices.rename(columns={\"updated_at\": \"device_updated_at\"}, inplace=True)\n",
    "\n",
    "#renaming columns in manufacturers dataframe\n",
    "manufacturers.rename(columns={\"id\": \"manufacturer_id\"}, inplace=True)\n",
    "manufacturers.rename(columns={\"name\": \"manufacturer_name\"}, inplace=True)\n",
    "manufacturers.rename(columns={\"slug\": \"manufacturer_slug\"}, inplace=True)\n",
    "manufacturers.rename(columns={\"created_at\": \"manufacturer_created_at\"}, inplace=True)\n",
    "manufacturers.rename(columns={\"updated_at\": \"manufacturer_updated_at\"}, inplace=True)\n",
    "\n",
    "df = pd.merge(devices,\n",
    "                 manufacturers,\n",
    "                 on='manufacturer_id',\n",
    "                 how='outer')"
   ]
  },
  {
   "cell_type": "code",
   "execution_count": 51,
   "metadata": {},
   "outputs": [
    {
     "name": "stdout",
     "output_type": "stream",
     "text": [
      "<class 'pandas.core.frame.DataFrame'>\n",
      "Int64Index: 104137 entries, 0 to 104136\n",
      "Data columns (total 24 columns):\n",
      "device_id                  104066 non-null float64\n",
      "classification             35179 non-null object\n",
      "code                       33123 non-null object\n",
      "description                80627 non-null object\n",
      "distributed_to             33626 non-null object\n",
      "implanted                  34898 non-null object\n",
      "device_name                104061 non-null object\n",
      "number                     61149 non-null object\n",
      "quantity_in_commerce       31930 non-null object\n",
      "risk_class                 32948 non-null object\n",
      "device_slug                104066 non-null object\n",
      "country                    104065 non-null object\n",
      "manufacturer_id            104137 non-null int64\n",
      "device_created_at          104066 non-null object\n",
      "device_updated_at          104066 non-null object\n",
      "address                    47347 non-null object\n",
      "comment                    12062 non-null object\n",
      "manufacturer_name          102407 non-null object\n",
      "parent_company             85198 non-null object\n",
      "representative             842 non-null object\n",
      "manufacturer_slug          104137 non-null object\n",
      "source                     104056 non-null object\n",
      "manufacturer_created_at    104137 non-null object\n",
      "manufacturer_updated_at    104137 non-null object\n",
      "dtypes: float64(1), int64(1), object(22)\n",
      "memory usage: 11.1+ MB\n"
     ]
    }
   ],
   "source": [
    "#Check shape of df dataset\n",
    "df.info()"
   ]
  },
  {
   "cell_type": "code",
   "execution_count": 52,
   "metadata": {},
   "outputs": [],
   "source": [
    "## merging df and events dataframes\n",
    "\n",
    "#renaming columns in events dataframe (indicating which original dataset they came from before the merging of datasets)\n",
    "df.rename(columns={\"number\": \"device_number\"}, inplace=True)\n",
    "df.rename(columns={\"country\": \"device_country\"}, inplace=True)\n",
    "df.rename(columns={\"source\": \"manufacturer_source\"}, inplace=True)\n",
    "\n",
    "#renaming columns in events dataframe\n",
    "events.rename(columns={\"id\": \"event_id\"}, inplace=True)\n",
    "events.rename(columns={\"country\": \"event_country\"}, inplace=True)\n",
    "events.rename(columns={\"source\": \"event_source\"}, inplace=True)\n",
    "events.rename(columns={\"number\": \"event_number\"}, inplace=True)\n",
    "events.rename(columns={\"slug\": \"event_slug\"}, inplace=True)\n",
    "events.rename(columns={\"created_at\": \"event_created_at\"}, inplace=True)\n",
    "events.rename(columns={\"updated_at\": \"event_updated_at\"}, inplace=True)\n",
    "\n",
    "df_final = pd.merge(df,\n",
    "                 events,\n",
    "                 on='device_id',\n",
    "                 how='outer')"
   ]
  },
  {
   "cell_type": "code",
   "execution_count": 53,
   "metadata": {},
   "outputs": [
    {
     "name": "stdout",
     "output_type": "stream",
     "text": [
      "<class 'pandas.core.frame.DataFrame'>\n",
      "Int64Index: 109645 entries, 0 to 109644\n",
      "Data columns (total 53 columns):\n",
      "device_id                  109574 non-null float64\n",
      "classification             37392 non-null object\n",
      "code                       35278 non-null object\n",
      "description                84943 non-null object\n",
      "distributed_to             35782 non-null object\n",
      "implanted                  37135 non-null object\n",
      "device_name                109554 non-null object\n",
      "device_number              63709 non-null object\n",
      "quantity_in_commerce       33682 non-null object\n",
      "risk_class                 35091 non-null object\n",
      "device_slug                109574 non-null object\n",
      "device_country             109573 non-null object\n",
      "manufacturer_id            109645 non-null int64\n",
      "device_created_at          109574 non-null object\n",
      "device_updated_at          109574 non-null object\n",
      "address                    50312 non-null object\n",
      "comment                    12654 non-null object\n",
      "manufacturer_name          107814 non-null object\n",
      "parent_company             89414 non-null object\n",
      "representative             861 non-null object\n",
      "manufacturer_slug          109645 non-null object\n",
      "manufacturer_source        109562 non-null object\n",
      "manufacturer_created_at    109645 non-null object\n",
      "manufacturer_updated_at    109645 non-null object\n",
      "event_id                   109574 non-null float64\n",
      "action                     58773 non-null object\n",
      "action_classification      52950 non-null object\n",
      "action_level               2456 non-null object\n",
      "action_summary             27604 non-null object\n",
      "authorities_link           109492 non-null object\n",
      "event_country              109573 non-null object\n",
      "create_date                5201 non-null object\n",
      "data_notes                 53766 non-null object\n",
      "date                       39221 non-null object\n",
      "date_initiated_by_firm     54428 non-null object\n",
      "date_posted                40109 non-null object\n",
      "date_terminated            31487 non-null object\n",
      "date_updated               226 non-null object\n",
      "determined_cause           35818 non-null object\n",
      "documents                  28883 non-null object\n",
      "icij_notes                 109573 non-null object\n",
      "event_number               41729 non-null object\n",
      "reason                     61803 non-null object\n",
      "event_source               109492 non-null object\n",
      "status                     36529 non-null object\n",
      "target_audience            138 non-null object\n",
      "type                       109573 non-null object\n",
      "uid                        90981 non-null object\n",
      "uid_hash                   90981 non-null object\n",
      "url                        89278 non-null object\n",
      "event_slug                 109574 non-null object\n",
      "event_created_at           109574 non-null object\n",
      "event_updated_at           109574 non-null object\n",
      "dtypes: float64(2), int64(1), object(50)\n",
      "memory usage: 24.3+ MB\n"
     ]
    }
   ],
   "source": [
    "#Check shape of df_final dataset\n",
    "df_final.info()"
   ]
  },
  {
   "cell_type": "markdown",
   "metadata": {},
   "source": [
    "# Dealing with Columns with High Missing Percentage"
   ]
  },
  {
   "cell_type": "code",
   "execution_count": 54,
   "metadata": {},
   "outputs": [],
   "source": [
    "#Remove columns with missing percentage of 60% or more\n",
    "df_final = df_final.loc[:, df_final.isnull().mean() < .6]"
   ]
  },
  {
   "cell_type": "markdown",
   "metadata": {},
   "source": [
    "# Manually Remove Redundant Columns"
   ]
  },
  {
   "cell_type": "code",
   "execution_count": 55,
   "metadata": {},
   "outputs": [
    {
     "name": "stdout",
     "output_type": "stream",
     "text": [
      "<class 'pandas.core.frame.DataFrame'>\n",
      "Int64Index: 109645 entries, 0 to 109644\n",
      "Data columns (total 8 columns):\n",
      "device_id                109574 non-null float64\n",
      "device_name              109554 non-null object\n",
      "device_country           109573 non-null object\n",
      "event_id                 109574 non-null float64\n",
      "action_classification    52950 non-null object\n",
      "event_country            109573 non-null object\n",
      "reason                   61803 non-null object\n",
      "type                     109573 non-null object\n",
      "dtypes: float64(2), object(6)\n",
      "memory usage: 5.0+ MB\n"
     ]
    }
   ],
   "source": [
    "#Remove columns that have no relations to the outcome column, type (Event Type)\n",
    "df_final = df_final.drop(['description', 'device_number', 'device_created_at', 'device_slug', 'device_updated_at', 'manufacturer_id', 'manufacturer_name', 'address', 'parent_company', 'manufacturer_slug', 'manufacturer_source', 'manufacturer_created_at', 'manufacturer_updated_at', 'action', 'data_notes', 'authorities_link', 'date_initiated_by_firm', 'event_source', 'event_slug', 'icij_notes', 'uid', 'uid_hash', 'url', 'event_created_at', 'event_updated_at'], axis = 1)\n",
    "df_final.info()"
   ]
  },
  {
   "cell_type": "markdown",
   "metadata": {},
   "source": [
    "# Check and Reorganize Values of Columns"
   ]
  },
  {
   "cell_type": "code",
   "execution_count": 56,
   "metadata": {},
   "outputs": [
    {
     "data": {
      "text/plain": [
       "Class 2                    31282\n",
       "II                          8216\n",
       "III                         4705\n",
       "Class 1                     2483\n",
       "Class II                    2336\n",
       "Class 3                     2058\n",
       "Class I                      907\n",
       "I                            632\n",
       "Class III                    327\n",
       "Unclassified Correction        3\n",
       "Voluntary recall               1\n",
       "Name: action_classification, dtype: int64"
      ]
     },
     "execution_count": 56,
     "metadata": {},
     "output_type": "execute_result"
    }
   ],
   "source": [
    "#Checking the value counts of certain columns in df_final\n",
    "df_final['action_classification'].value_counts() #action_classification column"
   ]
  },
  {
   "cell_type": "code",
   "execution_count": 57,
   "metadata": {},
   "outputs": [
    {
     "data": {
      "text/plain": [
       "Recall                   65242\n",
       "Field Safety Notice      36182\n",
       "Recall / Safety Alert     4321\n",
       "Safety alert              3828\n",
       "Name: type, dtype: int64"
      ]
     },
     "execution_count": 57,
     "metadata": {},
     "output_type": "execute_result"
    }
   ],
   "source": [
    "df_final['type'].value_counts() #type column"
   ]
  },
  {
   "cell_type": "code",
   "execution_count": 58,
   "metadata": {},
   "outputs": [],
   "source": [
    "#Changing varied-written values of action_classification into uniform values\n",
    "df_final[['action_classification']] = df_final[['action_classification']].replace(dict.fromkeys(['I', 'Class I'], 'Class 1'))\n",
    "df_final[['action_classification']] = df_final[['action_classification']].replace(dict.fromkeys(['II','Class II'], 'Class 2'))\n",
    "df_final[['action_classification']] = df_final[['action_classification']].replace(dict.fromkeys(['III', 'Class III'], 'Class 3'))\n",
    "\n",
    "#Removing rows with values of Unclassified Correction and Voluntary recall under the action_classification column (as there are only a handful, their removal will not affect the final analysis of the data)\n",
    "df_final = df_final[~(df_final[\"action_classification\"].isin(['Unclassified Correction','Voluntary recall']))]"
   ]
  },
  {
   "cell_type": "code",
   "execution_count": 59,
   "metadata": {},
   "outputs": [],
   "source": [
    "#Remove rows of missing values as type is the outcome variable\n",
    "df_final = df_final[df_final['type'].notnull()]"
   ]
  },
  {
   "cell_type": "code",
   "execution_count": 60,
   "metadata": {},
   "outputs": [
    {
     "name": "stdout",
     "output_type": "stream",
     "text": [
      "<class 'pandas.core.frame.DataFrame'>\n",
      "Int64Index: 61799 entries, 956 to 107877\n",
      "Data columns (total 8 columns):\n",
      "device_id                61799 non-null float64\n",
      "device_name              61796 non-null object\n",
      "device_country           61799 non-null object\n",
      "event_id                 61799 non-null float64\n",
      "action_classification    52267 non-null object\n",
      "event_country            61799 non-null object\n",
      "reason                   61799 non-null object\n",
      "type                     61799 non-null object\n",
      "dtypes: float64(2), object(6)\n",
      "memory usage: 2.8+ MB\n"
     ]
    }
   ],
   "source": [
    "#Remove rows containing missing values under the reason column \n",
    "df_final = df_final[df_final['reason'].notnull()]\n",
    "df_final.info()"
   ]
  },
  {
   "cell_type": "markdown",
   "metadata": {},
   "source": [
    "# Text Cleaning"
   ]
  },
  {
   "cell_type": "code",
   "execution_count": 61,
   "metadata": {},
   "outputs": [],
   "source": [
    "# function for text cleaning \n",
    "def clean_text(text): \n",
    "    # remove everything except alphabets \n",
    "    text = re.sub(\"[^a-zA-Z]\",\" \",text) \n",
    "    # remove whitespaces \n",
    "    text = ' '.join(text.split()) \n",
    "    # convert text to lowercase \n",
    "    text = text.lower() \n",
    "    \n",
    "    return text"
   ]
  },
  {
   "cell_type": "code",
   "execution_count": 62,
   "metadata": {},
   "outputs": [],
   "source": [
    "#Apply text cleaning function to reason column in df_final dataframe\n",
    "df_final['clean_reason'] = df_final['reason'].apply(lambda x: clean_text(x))"
   ]
  },
  {
   "cell_type": "code",
   "execution_count": 63,
   "metadata": {},
   "outputs": [],
   "source": [
    "# function for stemming words\n",
    "def stem_text(text):\n",
    "    ps = PorterStemmer()\n",
    "    token_words=word_tokenize(str(text))\n",
    "    token_words\n",
    "    stem_text=[]\n",
    "    for word in token_words:\n",
    "        stem_text.append(ps.stem(word))\n",
    "        stem_text.append(\" \")\n",
    "    return \"\".join(stem_text)"
   ]
  },
  {
   "cell_type": "code",
   "execution_count": 64,
   "metadata": {},
   "outputs": [],
   "source": [
    "#Apply stemming text function to clean_reason column in df_final dataframe\n",
    "df_final['clean_reason'] = df_final['clean_reason'].apply(lambda x: stem_text(x))"
   ]
  },
  {
   "cell_type": "code",
   "execution_count": 65,
   "metadata": {},
   "outputs": [
    {
     "data": {
      "text/html": [
       "<div>\n",
       "<style scoped>\n",
       "    .dataframe tbody tr th:only-of-type {\n",
       "        vertical-align: middle;\n",
       "    }\n",
       "\n",
       "    .dataframe tbody tr th {\n",
       "        vertical-align: top;\n",
       "    }\n",
       "\n",
       "    .dataframe thead th {\n",
       "        text-align: right;\n",
       "    }\n",
       "</style>\n",
       "<table border=\"1\" class=\"dataframe\">\n",
       "  <thead>\n",
       "    <tr style=\"text-align: right;\">\n",
       "      <th></th>\n",
       "      <th>device_id</th>\n",
       "      <th>device_name</th>\n",
       "      <th>device_country</th>\n",
       "      <th>event_id</th>\n",
       "      <th>action_classification</th>\n",
       "      <th>event_country</th>\n",
       "      <th>reason</th>\n",
       "      <th>type</th>\n",
       "      <th>clean_reason</th>\n",
       "    </tr>\n",
       "  </thead>\n",
       "  <tbody>\n",
       "    <tr>\n",
       "      <td>956</td>\n",
       "      <td>861.0</td>\n",
       "      <td>Invacare Action 3 Junior Push Bar Handle</td>\n",
       "      <td>NZL</td>\n",
       "      <td>957.0</td>\n",
       "      <td>NaN</td>\n",
       "      <td>NZL</td>\n",
       "      <td>The failure of the finger bolts can lead to in...</td>\n",
       "      <td>Recall</td>\n",
       "      <td>failur finger bolt lead injuri control chair lost</td>\n",
       "    </tr>\n",
       "    <tr>\n",
       "      <td>957</td>\n",
       "      <td>862.0</td>\n",
       "      <td>Bio-Rad D-10 Hemoglobin A Program Reorder pack</td>\n",
       "      <td>NZL</td>\n",
       "      <td>958.0</td>\n",
       "      <td>NaN</td>\n",
       "      <td>NZL</td>\n",
       "      <td>Medical Device Correction iniitiated as a resu...</td>\n",
       "      <td>Recall</td>\n",
       "      <td>medic devic correct iniiti result custom compl...</td>\n",
       "    </tr>\n",
       "    <tr>\n",
       "      <td>958</td>\n",
       "      <td>863.0</td>\n",
       "      <td>Bio-Rad VARIANT 11 beta Thalassemmia Short pro...</td>\n",
       "      <td>NZL</td>\n",
       "      <td>959.0</td>\n",
       "      <td>NaN</td>\n",
       "      <td>NZL</td>\n",
       "      <td>Medical Device Correction iniitiated as a resu...</td>\n",
       "      <td>Recall</td>\n",
       "      <td>medic devic correct iniiti result custom compl...</td>\n",
       "    </tr>\n",
       "    <tr>\n",
       "      <td>959</td>\n",
       "      <td>1062.0</td>\n",
       "      <td>Bio-Rad IH-Com Kit Fullversion (Data managemen...</td>\n",
       "      <td>NZL</td>\n",
       "      <td>1159.0</td>\n",
       "      <td>NaN</td>\n",
       "      <td>NZL</td>\n",
       "      <td>In case of non interpretable results in the an...</td>\n",
       "      <td>Recall</td>\n",
       "      <td>case non interpret result anti ab well abo id ...</td>\n",
       "    </tr>\n",
       "    <tr>\n",
       "      <td>960</td>\n",
       "      <td>1088.0</td>\n",
       "      <td>Bio-Rad Urinary Catecholamines by HPLC Reagent...</td>\n",
       "      <td>NZL</td>\n",
       "      <td>1185.0</td>\n",
       "      <td>NaN</td>\n",
       "      <td>NZL</td>\n",
       "      <td>In some urine samples the concentration of adr...</td>\n",
       "      <td>Recall</td>\n",
       "      <td>urin sampl concentr adrenalin epinephrin may d...</td>\n",
       "    </tr>\n",
       "  </tbody>\n",
       "</table>\n",
       "</div>"
      ],
      "text/plain": [
       "     device_id                                        device_name  \\\n",
       "956      861.0           Invacare Action 3 Junior Push Bar Handle   \n",
       "957      862.0     Bio-Rad D-10 Hemoglobin A Program Reorder pack   \n",
       "958      863.0  Bio-Rad VARIANT 11 beta Thalassemmia Short pro...   \n",
       "959     1062.0  Bio-Rad IH-Com Kit Fullversion (Data managemen...   \n",
       "960     1088.0  Bio-Rad Urinary Catecholamines by HPLC Reagent...   \n",
       "\n",
       "    device_country  event_id action_classification event_country  \\\n",
       "956            NZL     957.0                   NaN           NZL   \n",
       "957            NZL     958.0                   NaN           NZL   \n",
       "958            NZL     959.0                   NaN           NZL   \n",
       "959            NZL    1159.0                   NaN           NZL   \n",
       "960            NZL    1185.0                   NaN           NZL   \n",
       "\n",
       "                                                reason    type  \\\n",
       "956  The failure of the finger bolts can lead to in...  Recall   \n",
       "957  Medical Device Correction iniitiated as a resu...  Recall   \n",
       "958  Medical Device Correction iniitiated as a resu...  Recall   \n",
       "959  In case of non interpretable results in the an...  Recall   \n",
       "960  In some urine samples the concentration of adr...  Recall   \n",
       "\n",
       "                                          clean_reason  \n",
       "956  failur finger bolt lead injuri control chair lost  \n",
       "957  medic devic correct iniiti result custom compl...  \n",
       "958  medic devic correct iniiti result custom compl...  \n",
       "959  case non interpret result anti ab well abo id ...  \n",
       "960  urin sampl concentr adrenalin epinephrin may d...  "
      ]
     },
     "execution_count": 65,
     "metadata": {},
     "output_type": "execute_result"
    }
   ],
   "source": [
    "#Remove stop words in clean_reason column\n",
    "\n",
    "# function to remove stopwords\n",
    "def remove_stopwords(text):\n",
    "    stop_words = set(stopwords.words('english'))\n",
    "    no_stopword_text = [w for w in str(text).split() if not w in stop_words]\n",
    "    return ' '.join(no_stopword_text)\n",
    "\n",
    "df_final['clean_reason'] = df_final['clean_reason'].apply(lambda x: remove_stopwords(x))\n",
    "\n",
    "df_final.head()"
   ]
  },
  {
   "cell_type": "markdown",
   "metadata": {},
   "source": [
    "# Export Final Dataset into csv"
   ]
  },
  {
   "cell_type": "code",
   "execution_count": 66,
   "metadata": {},
   "outputs": [],
   "source": [
    "df_final.to_csv (r'C:/Users/melin/Documents/Springboard Data Science Career Track/Capstone Projects/Capstone Project 1/df_final.csv', index = False, header=True)"
   ]
  }
 ],
 "metadata": {
  "kernelspec": {
   "display_name": "Python 3",
   "language": "python",
   "name": "python3"
  },
  "language_info": {
   "codemirror_mode": {
    "name": "ipython",
    "version": 3
   },
   "file_extension": ".py",
   "mimetype": "text/x-python",
   "name": "python",
   "nbconvert_exporter": "python",
   "pygments_lexer": "ipython3",
   "version": "3.6.9"
  }
 },
 "nbformat": 4,
 "nbformat_minor": 2
}
