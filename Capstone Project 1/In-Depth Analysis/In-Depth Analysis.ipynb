{
 "cells": [
  {
   "cell_type": "markdown",
   "metadata": {},
   "source": [
    "# Import Required Libraries"
   ]
  },
  {
   "cell_type": "code",
   "execution_count": 1,
   "metadata": {},
   "outputs": [],
   "source": [
    "import pandas as pd\n",
    "import numpy as np\n",
    "import nltk\n",
    "from nltk.tokenize import word_tokenize\n",
    "from nltk.stem import PorterStemmer \n",
    "from nltk.corpus import stopwords\n",
    "import re\n",
    "import warnings\n",
    "from sklearn.linear_model import LogisticRegression\n",
    "from sklearn.feature_extraction.text import TfidfTransformer\n",
    "from sklearn.feature_extraction.text import CountVectorizer\n",
    "from sklearn.feature_extraction.text import TfidfVectorizer\n",
    "from sklearn.naive_bayes import BernoulliNB\n",
    "from sklearn.naive_bayes import MultinomialNB\n",
    "from sklearn.preprocessing import MultiLabelBinarizer \n",
    "from sklearn.model_selection import KFold\n",
    "from sklearn.model_selection import train_test_split\n",
    "from sklearn.pipeline import Pipeline\n",
    "\n",
    "# Binary Relevance\n",
    "from sklearn.multiclass import OneVsRestClassifier\n",
    "# Performance metric\n",
    "from sklearn.metrics import f1_score\n",
    "\n",
    "%matplotlib inline\n",
    "pd.set_option('display.max_colwidth', 300)"
   ]
  },
  {
   "cell_type": "markdown",
   "metadata": {},
   "source": [
    "# Load Data"
   ]
  },
  {
   "cell_type": "code",
   "execution_count": 2,
   "metadata": {},
   "outputs": [
    {
     "data": {
      "text/html": [
       "<div>\n",
       "<style scoped>\n",
       "    .dataframe tbody tr th:only-of-type {\n",
       "        vertical-align: middle;\n",
       "    }\n",
       "\n",
       "    .dataframe tbody tr th {\n",
       "        vertical-align: top;\n",
       "    }\n",
       "\n",
       "    .dataframe thead th {\n",
       "        text-align: right;\n",
       "    }\n",
       "</style>\n",
       "<table border=\"1\" class=\"dataframe\">\n",
       "  <thead>\n",
       "    <tr style=\"text-align: right;\">\n",
       "      <th></th>\n",
       "      <th>device_id</th>\n",
       "      <th>device_name</th>\n",
       "      <th>device_country</th>\n",
       "      <th>event_id</th>\n",
       "      <th>action_classification</th>\n",
       "      <th>event_country</th>\n",
       "      <th>reason</th>\n",
       "      <th>type</th>\n",
       "      <th>clean_reason</th>\n",
       "    </tr>\n",
       "  </thead>\n",
       "  <tbody>\n",
       "    <tr>\n",
       "      <th>0</th>\n",
       "      <td>861.0</td>\n",
       "      <td>Invacare Action 3 Junior Push Bar Handle</td>\n",
       "      <td>NZL</td>\n",
       "      <td>957.0</td>\n",
       "      <td>NaN</td>\n",
       "      <td>NZL</td>\n",
       "      <td>The failure of the finger bolts can lead to injuries if control of the chair is lost.</td>\n",
       "      <td>Recall</td>\n",
       "      <td>failur finger bolt lead injuri control chair lost</td>\n",
       "    </tr>\n",
       "    <tr>\n",
       "      <th>1</th>\n",
       "      <td>862.0</td>\n",
       "      <td>Bio-Rad D-10 Hemoglobin A Program Reorder pack</td>\n",
       "      <td>NZL</td>\n",
       "      <td>958.0</td>\n",
       "      <td>NaN</td>\n",
       "      <td>NZL</td>\n",
       "      <td>Medical Device Correction iniitiated as a result of of customer complaints investigation for anothe product regarding calibration failure and late retention times associated with Elution Buffers. The company examined the potential for a similar problem with the above buffer lots. Bio-Rad request...</td>\n",
       "      <td>Recall</td>\n",
       "      <td>medic devic correct iniiti result custom complaint investig anoth product regard calibr failur late retent time associ elut buffer compani examin potenti similar problem abov buffer lot bio rad request custom discard affect product</td>\n",
       "    </tr>\n",
       "    <tr>\n",
       "      <th>2</th>\n",
       "      <td>863.0</td>\n",
       "      <td>Bio-Rad VARIANT 11 beta Thalassemmia Short program Reorder pack, 500 tests</td>\n",
       "      <td>NZL</td>\n",
       "      <td>959.0</td>\n",
       "      <td>NaN</td>\n",
       "      <td>NZL</td>\n",
       "      <td>Medical Device Correction iniitiated as a result of of customer complaints investigation for anothe product regarding calibration failure and late retention times associated with Elution Buffers. The company examined the potential for a similar problem with the above buffer lots. Bio-Rad request...</td>\n",
       "      <td>Recall</td>\n",
       "      <td>medic devic correct iniiti result custom complaint investig anoth product regard calibr failur late retent time associ elut buffer compani examin potenti similar problem abov buffer lot bio rad request custom discard affect product</td>\n",
       "    </tr>\n",
       "    <tr>\n",
       "      <th>3</th>\n",
       "      <td>1062.0</td>\n",
       "      <td>Bio-Rad IH-Com Kit Fullversion (Data management and result Interpretation)</td>\n",
       "      <td>NZL</td>\n",
       "      <td>1159.0</td>\n",
       "      <td>NaN</td>\n",
       "      <td>NZL</td>\n",
       "      <td>In case of non interpretable results in the anti-AB well (ABO3) of ID-cards intended for ABO forward grouping, the IH-Com software does not include the reaction of this well (result code-30) wheh sending the result to the laboratory Host. The issue can only occur if the following conditions are ...</td>\n",
       "      <td>Recall</td>\n",
       "      <td>case non interpret result anti ab well abo id card intend abo forward group ih com softwar doe includ reaction thi well result code wheh send result laboratori host issu onli occur follow condit met ih com softwar connect laboratori host astm commun mode abo interpret result obtain due reaction ...</td>\n",
       "    </tr>\n",
       "    <tr>\n",
       "      <th>4</th>\n",
       "      <td>1088.0</td>\n",
       "      <td>Bio-Rad Urinary Catecholamines by HPLC Reagent Kit</td>\n",
       "      <td>NZL</td>\n",
       "      <td>1185.0</td>\n",
       "      <td>NaN</td>\n",
       "      <td>NZL</td>\n",
       "      <td>In some urine samples the concentration of adrenaline/epinephrine may decrease when analysis time is &gt;8 hours.,               This decrease in concentration occurs only, if samples were subsequently adjusted to pH 5 to pH 7 as described in the instruction for use for very acidic samples or sampl...</td>\n",
       "      <td>Recall</td>\n",
       "      <td>urin sampl concentr adrenalin epinephrin may decreas analysi time hour thi decreas concentr occur onli sampl subsequ adjust ph ph describ instruct use veri acid sampl sampl low volum risk fals neg result report sampl experi condit</td>\n",
       "    </tr>\n",
       "  </tbody>\n",
       "</table>\n",
       "</div>"
      ],
      "text/plain": [
       "   device_id  \\\n",
       "0      861.0   \n",
       "1      862.0   \n",
       "2      863.0   \n",
       "3     1062.0   \n",
       "4     1088.0   \n",
       "\n",
       "                                                                  device_name  \\\n",
       "0                                    Invacare Action 3 Junior Push Bar Handle   \n",
       "1                              Bio-Rad D-10 Hemoglobin A Program Reorder pack   \n",
       "2  Bio-Rad VARIANT 11 beta Thalassemmia Short program Reorder pack, 500 tests   \n",
       "3  Bio-Rad IH-Com Kit Fullversion (Data management and result Interpretation)   \n",
       "4                          Bio-Rad Urinary Catecholamines by HPLC Reagent Kit   \n",
       "\n",
       "  device_country  event_id action_classification event_country  \\\n",
       "0            NZL     957.0                   NaN           NZL   \n",
       "1            NZL     958.0                   NaN           NZL   \n",
       "2            NZL     959.0                   NaN           NZL   \n",
       "3            NZL    1159.0                   NaN           NZL   \n",
       "4            NZL    1185.0                   NaN           NZL   \n",
       "\n",
       "                                                                                                                                                                                                                                                                                                        reason  \\\n",
       "0                                                                                                                                                                                                                        The failure of the finger bolts can lead to injuries if control of the chair is lost.   \n",
       "1  Medical Device Correction iniitiated as a result of of customer complaints investigation for anothe product regarding calibration failure and late retention times associated with Elution Buffers. The company examined the potential for a similar problem with the above buffer lots. Bio-Rad request...   \n",
       "2  Medical Device Correction iniitiated as a result of of customer complaints investigation for anothe product regarding calibration failure and late retention times associated with Elution Buffers. The company examined the potential for a similar problem with the above buffer lots. Bio-Rad request...   \n",
       "3  In case of non interpretable results in the anti-AB well (ABO3) of ID-cards intended for ABO forward grouping, the IH-Com software does not include the reaction of this well (result code-30) wheh sending the result to the laboratory Host. The issue can only occur if the following conditions are ...   \n",
       "4  In some urine samples the concentration of adrenaline/epinephrine may decrease when analysis time is >8 hours.,               This decrease in concentration occurs only, if samples were subsequently adjusted to pH 5 to pH 7 as described in the instruction for use for very acidic samples or sampl...   \n",
       "\n",
       "     type  \\\n",
       "0  Recall   \n",
       "1  Recall   \n",
       "2  Recall   \n",
       "3  Recall   \n",
       "4  Recall   \n",
       "\n",
       "                                                                                                                                                                                                                                                                                                  clean_reason  \n",
       "0                                                                                                                                                                                                                                                            failur finger bolt lead injuri control chair lost  \n",
       "1                                                                      medic devic correct iniiti result custom complaint investig anoth product regard calibr failur late retent time associ elut buffer compani examin potenti similar problem abov buffer lot bio rad request custom discard affect product  \n",
       "2                                                                      medic devic correct iniiti result custom complaint investig anoth product regard calibr failur late retent time associ elut buffer compani examin potenti similar problem abov buffer lot bio rad request custom discard affect product  \n",
       "3  case non interpret result anti ab well abo id card intend abo forward group ih com softwar doe includ reaction thi well result code wheh send result laboratori host issu onli occur follow condit met ih com softwar connect laboratori host astm commun mode abo interpret result obtain due reaction ...  \n",
       "4                                                                       urin sampl concentr adrenalin epinephrin may decreas analysi time hour thi decreas concentr occur onli sampl subsequ adjust ph ph describ instruct use veri acid sampl sampl low volum risk fals neg result report sampl experi condit  "
      ]
     },
     "execution_count": 2,
     "metadata": {},
     "output_type": "execute_result"
    }
   ],
   "source": [
    "df_final = pd.read_csv('C:/Users/melin/Documents/Springboard Data Science Career Track/Capstone Projects/Capstone Project 1/df_final.csv')\n",
    "df_final.head()"
   ]
  },
  {
   "cell_type": "markdown",
   "metadata": {},
   "source": [
    "# Converting Text to Features"
   ]
  },
  {
   "cell_type": "code",
   "execution_count": 3,
   "metadata": {},
   "outputs": [],
   "source": [
    "#Remove rows containing missing values under the clean_reason column \n",
    "df_final = df_final[df_final['clean_reason'].notnull()]\n",
    "\n",
    "#Changing 'Safety alert' value in type column into 'Safety Alert'\n",
    "df_final[['type']] = df_final[['type']].replace(dict.fromkeys(['Safety alert'], 'Safety Alert'))"
   ]
  },
  {
   "cell_type": "code",
   "execution_count": 4,
   "metadata": {},
   "outputs": [],
   "source": [
    "#Preparing data for k-fold cross-validation\n",
    "data = df_final[['clean_reason', 'type']].copy()\n",
    "data = data.rename(columns={'clean_reason': 'text', 'type': 'class'}) #rename the columns in data\n",
    "data = data.reindex(np.random.permutation(data.index))\n",
    "\n",
    "#Remove rows containing missing values under the text column \n",
    "data = data[data['text'].notnull()]\n",
    "\n",
    "#Create a pipeline merging the feature extraction and the naïve Bayes classifier into one operation\n",
    "pipeline = Pipeline([\n",
    "  ('vectorizer',  CountVectorizer(ngram_range=(1, 2))), #extract more features from the text by implementing bigram (2-grams) counts\n",
    "  ('classifier',  MultinomialNB())])\n",
    "\n",
    "#Performing k-fold cross-validation\n",
    "k_fold = KFold(n_splits=10, shuffle=True, random_state=1) #set 10 folds to the cross-validation\n",
    "scores = []\n",
    "for train_indices, test_indices in k_fold.split(data):\n",
    "  train_text = np.asarray(data.iloc[train_indices]['text'])\n",
    "  train_y    = np.asarray(data.iloc[train_indices]['class'])\n",
    "\n",
    "  test_text  = np.asarray(data.iloc[test_indices]['text'])\n",
    "  test_y     = np.asarray(data.iloc[test_indices]['class'])\n",
    "\n",
    "  pipeline.fit(train_text, train_y)\n",
    "  score = pipeline.score(test_text, test_y)\n",
    "  scores.append(score)\n",
    "\n",
    "score = sum(scores) / len(scores)"
   ]
  },
  {
   "cell_type": "code",
   "execution_count": 5,
   "metadata": {},
   "outputs": [
    {
     "data": {
      "text/plain": [
       "0.9488685320861693"
      ]
     },
     "execution_count": 5,
     "metadata": {},
     "output_type": "execute_result"
    }
   ],
   "source": [
    "#Check the mean accuracy score of the k-fold cross-validation\n",
    "score"
   ]
  },
  {
   "cell_type": "code",
   "execution_count": 6,
   "metadata": {},
   "outputs": [],
   "source": [
    "#Using TF-IDF to extract features from the cleaned version of the reason data\n",
    "tfidf_vectorizer = TfidfVectorizer(max_df=0.8, max_features=10000) # set 10,000 most frequent words in the data as features"
   ]
  },
  {
   "cell_type": "code",
   "execution_count": 7,
   "metadata": {},
   "outputs": [],
   "source": [
    "#Create TF-IDF features\n",
    "xtrain_tfidf = tfidf_vectorizer.fit_transform(train_text)\n",
    "xval_tfidf = tfidf_vectorizer.transform(test_text)"
   ]
  },
  {
   "cell_type": "code",
   "execution_count": 8,
   "metadata": {},
   "outputs": [
    {
     "name": "stdout",
     "output_type": "stream",
     "text": [
      "[Recall]                  51271\n",
      "[Safety Alert]             3440\n",
      "[Field Safety Notice]       880\n",
      "[Recall, Safety Alert]       13\n",
      "Name: new_type, dtype: int64\n",
      "[Recall]                  5684\n",
      "[Safety Alert]             381\n",
      "[Field Safety Notice]      112\n",
      "[Recall, Safety Alert]       1\n",
      "Name: new_type, dtype: int64\n"
     ]
    }
   ],
   "source": [
    "##Format train_y and test_y for input into sklearn’s MultiLabelBinarizer( )\n",
    "\n",
    "#Convert train_y and test_y into datasets\n",
    "df_train_y=pd.DataFrame(train_y, columns=['new_type']) \n",
    "df_test_y=pd.DataFrame(test_y, columns=['new_type'])\n",
    "\n",
    "#Converting values in df_train_y and df_test_y into lists with ',' replacing '/'\n",
    "df_train_y['new_type'] = df_train_y['new_type'].str.split(' / ') \n",
    "df_test_y['new_type'] = df_test_y['new_type'].str.split(' / ') \n",
    "\n",
    "#Suppress warning in this code block\n",
    "with warnings.catch_warnings(): #whatever warning methods are run within this block, undo them when exiting the block\n",
    "    warnings.simplefilter('ignore')\n",
    "    print(df_train_y.new_type.value_counts())\n",
    "    print(df_test_y.new_type.value_counts())"
   ]
  },
  {
   "cell_type": "code",
   "execution_count": 9,
   "metadata": {},
   "outputs": [
    {
     "data": {
      "text/plain": [
       "MultiLabelBinarizer(classes=None, sparse_output=False)"
      ]
     },
     "execution_count": 9,
     "metadata": {},
     "output_type": "execute_result"
    }
   ],
   "source": [
    "#One hot encode the target variable, i.e., type by using sklearn’s MultiLabelBinarizer( )\n",
    "multilabel_binarizer = MultiLabelBinarizer()\n",
    "multilabel_binarizer.fit(df_train_y['new_type'])\n",
    "multilabel_binarizer.fit(df_test_y['new_type'])"
   ]
  },
  {
   "cell_type": "code",
   "execution_count": 10,
   "metadata": {},
   "outputs": [
    {
     "data": {
      "text/plain": [
       "array(['Field Safety Notice', 'Recall', 'Safety Alert'], dtype=object)"
      ]
     },
     "execution_count": 10,
     "metadata": {},
     "output_type": "execute_result"
    }
   ],
   "source": [
    "multilabel_binarizer.classes_"
   ]
  },
  {
   "cell_type": "code",
   "execution_count": 11,
   "metadata": {},
   "outputs": [],
   "source": [
    "# transform target variable\n",
    "ytrain = multilabel_binarizer.transform(df_train_y['new_type'])\n",
    "yval = multilabel_binarizer.transform(df_test_y['new_type'])"
   ]
  },
  {
   "cell_type": "markdown",
   "metadata": {},
   "source": [
    "# Build Event Type Prediction Model"
   ]
  },
  {
   "cell_type": "code",
   "execution_count": 12,
   "metadata": {},
   "outputs": [],
   "source": [
    "#Use sklearn’s OneVsRestClassifier class to solve the Logistic Regression model's problem as a Binary Relevance or one-vs-all problem\n",
    "lr = LogisticRegression()\n",
    "clf = OneVsRestClassifier(lr)"
   ]
  },
  {
   "cell_type": "code",
   "execution_count": 13,
   "metadata": {},
   "outputs": [
    {
     "data": {
      "text/plain": [
       "OneVsRestClassifier(estimator=LogisticRegression(C=1.0, class_weight=None,\n",
       "                                                 dual=False, fit_intercept=True,\n",
       "                                                 intercept_scaling=1,\n",
       "                                                 l1_ratio=None, max_iter=100,\n",
       "                                                 multi_class='auto',\n",
       "                                                 n_jobs=None, penalty='l2',\n",
       "                                                 random_state=None,\n",
       "                                                 solver='lbfgs', tol=0.0001,\n",
       "                                                 verbose=0, warm_start=False),\n",
       "                    n_jobs=None)"
      ]
     },
     "execution_count": 13,
     "metadata": {},
     "output_type": "execute_result"
    }
   ],
   "source": [
    "#Fit model on train data\n",
    "clf.fit(xtrain_tfidf, ytrain)"
   ]
  },
  {
   "cell_type": "code",
   "execution_count": 14,
   "metadata": {},
   "outputs": [],
   "source": [
    "#Make predictions for validation set\n",
    "y_pred = clf.predict(xval_tfidf)"
   ]
  },
  {
   "cell_type": "code",
   "execution_count": 15,
   "metadata": {},
   "outputs": [
    {
     "data": {
      "text/plain": [
       "array([0, 1, 0])"
      ]
     },
     "execution_count": 15,
     "metadata": {},
     "output_type": "execute_result"
    }
   ],
   "source": [
    "#Check out a sample from these predictions\n",
    "y_pred[3]"
   ]
  },
  {
   "cell_type": "code",
   "execution_count": 16,
   "metadata": {},
   "outputs": [
    {
     "data": {
      "text/plain": [
       "('Recall',)"
      ]
     },
     "execution_count": 16,
     "metadata": {},
     "output_type": "execute_result"
    }
   ],
   "source": [
    "#Convert the predicted arrays into event type tags\n",
    "multilabel_binarizer.inverse_transform(y_pred)[3]"
   ]
  },
  {
   "cell_type": "code",
   "execution_count": 17,
   "metadata": {},
   "outputs": [
    {
     "data": {
      "text/plain": [
       "0.9555069292487235"
      ]
     },
     "execution_count": 17,
     "metadata": {},
     "output_type": "execute_result"
    }
   ],
   "source": [
    "# evaluate performance\n",
    "f1_score(yval, y_pred, average=\"micro\")"
   ]
  },
  {
   "cell_type": "markdown",
   "metadata": {},
   "source": [
    "# Create Inference Function"
   ]
  },
  {
   "cell_type": "code",
   "execution_count": 18,
   "metadata": {},
   "outputs": [
    {
     "name": "stdout",
     "output_type": "stream",
     "text": [
      "[Recall]                  56955\n",
      "[Safety Alert]             3821\n",
      "[Field Safety Notice]       992\n",
      "[Recall, Safety Alert]       14\n",
      "Name: new_type, dtype: int64\n"
     ]
    }
   ],
   "source": [
    "#Create new_type column in df_final dataset\n",
    "df_final['new_type'] = df_final['type'].str.split(' / ')\n",
    "\n",
    "#Suppress warning in this code block\n",
    "with warnings.catch_warnings(): #whatever warning methods are run within this block, undo them when exiting the block\n",
    "    warnings.simplefilter('ignore')\n",
    "    print(df_final.new_type.value_counts())"
   ]
  },
  {
   "cell_type": "code",
   "execution_count": 19,
   "metadata": {},
   "outputs": [],
   "source": [
    "#Load text-cleaning functions\n",
    "\n",
    "# function for text cleaning \n",
    "def clean_text(text): \n",
    "    # remove everything except alphabets \n",
    "    text = re.sub(\"[^a-zA-Z]\",\" \",text) \n",
    "    # remove whitespaces \n",
    "    text = ' '.join(text.split()) \n",
    "    # convert text to lowercase \n",
    "    text = text.lower() \n",
    "    \n",
    "    return text\n",
    "\n",
    "# function for stemming words\n",
    "def stem_text(text):\n",
    "    ps = PorterStemmer()\n",
    "    token_words=word_tokenize(str(text))\n",
    "    token_words\n",
    "    stem_text=[]\n",
    "    for word in token_words:\n",
    "        stem_text.append(ps.stem(word))\n",
    "        stem_text.append(\" \")\n",
    "    return \"\".join(stem_text)\n",
    "\n",
    "# function to remove stopwords\n",
    "def remove_stopwords(text):\n",
    "    stop_words = set(stopwords.words('english'))\n",
    "    no_stopword_text = [w for w in str(text).split() if not w in stop_words]\n",
    "    return ' '.join(no_stopword_text)"
   ]
  },
  {
   "cell_type": "code",
   "execution_count": 20,
   "metadata": {},
   "outputs": [],
   "source": [
    "#Create inference function\n",
    "def infer_event(q):\n",
    "    q = clean_text(q)\n",
    "    q = stem_text(q)\n",
    "    q = remove_stopwords(q)\n",
    "    q_vec = tfidf_vectorizer.transform([q])\n",
    "    q_pred = clf.predict(q_vec)\n",
    "    return multilabel_binarizer.inverse_transform(q_pred)"
   ]
  },
  {
   "cell_type": "code",
   "execution_count": 21,
   "metadata": {},
   "outputs": [
    {
     "name": "stdout",
     "output_type": "stream",
     "text": [
      "Medical Device:  ARCHITECT SYSTEM - PROGESTERONE ASSAY \n",
      "Predicted Event Type:  [('Recall',)]\n",
      "Actual Event Type:  ['Recall'] \n",
      "\n",
      "Medical Device:  Single Shot Epidural Anesthesia Kit, Internal Jugular Puncture Kit with Blue FlexTip(R) Catheter, Pediatric Jugular Puncture Kit, Arterial Line Kit, Vessel Catheterization kit, Central Venous Catheterization kit, Jugular Puncture Ks. jne. ks.ilm., \n",
      "Predicted Event Type:  [('Recall',)]\n",
      "Actual Event Type:  ['Recall'] \n",
      "\n",
      "Medical Device:  Device Recall  Cytosponge Cell Collection Device \n",
      "Predicted Event Type:  [('Recall',)]\n",
      "Actual Event Type:  ['Recall'] \n",
      "\n",
      "Medical Device:  Device Recall  Howell D.A.S.H. Extraction Balloon \n",
      "Predicted Event Type:  [('Recall',)]\n",
      "Actual Event Type:  ['Recall'] \n",
      "\n",
      "Medical Device:  CHECKCELLS (POOLED CELLS) \n",
      "Predicted Event Type:  [('Recall',)]\n",
      "Actual Event Type:  ['Recall'] \n",
      "\n",
      "Medical Device:  RESONATE, VIGILANT X4, PERCIVA, and MOMENTUM CRT-D/ICD \n",
      "Predicted Event Type:  [('Safety Alert',)]\n",
      "Actual Event Type:  ['Safety Alert'] \n",
      "\n",
      "Medical Device:  LOW PROFILE ABUTMENTS  INTERNAL AND EXTERNAL CONNECTION \n",
      "Predicted Event Type:  [('Recall',)]\n",
      "Actual Event Type:  ['Recall'] \n",
      "\n",
      "Medical Device:  AVANTA FLUID INJECTION SYSTEM - MAIN UNIT WITH PEDESTAL \n",
      "Predicted Event Type:  [('Recall',)]\n",
      "Actual Event Type:  ['Recall'] \n",
      "\n",
      "Medical Device:  WASHER AND AUTOMATIC ENDOSCOPE REPAIRER AER - registered in Anvisa under the number 80145900728 - Code 20301 - Serial numbers / Lots: EP1151741; EP1151742; EP1151744; EP1151747; EP1151715; EP1151568; EP1151390; 4024730; 3024357; EP1151459; EP115119; EP115910; EP1151116. \n",
      "Predicted Event Type:  [('Recall',)]\n",
      "Actual Event Type:  ['Safety Alert'] \n",
      "\n",
      "Medical Device:  Device Recall  Giraffe Infant Warmers \n",
      "Predicted Event Type:  [('Recall',)]\n",
      "Actual Event Type:  ['Recall'] \n",
      "\n"
     ]
    }
   ],
   "source": [
    "for i in range(10): \n",
    "  k = df_final['reason'].sample(1).index[0] \n",
    "  print(\"Medical Device: \", df_final['device_name'][k], \"\\nPredicted Event Type: \", infer_event(df_final['reason'][k])), print(\"Actual Event Type: \",df_final['new_type'][k], \"\\n\")"
   ]
  }
 ],
 "metadata": {
  "kernelspec": {
   "display_name": "Python 3",
   "language": "python",
   "name": "python3"
  },
  "language_info": {
   "codemirror_mode": {
    "name": "ipython",
    "version": 3
   },
   "file_extension": ".py",
   "mimetype": "text/x-python",
   "name": "python",
   "nbconvert_exporter": "python",
   "pygments_lexer": "ipython3",
   "version": "3.7.6"
  }
 },
 "nbformat": 4,
 "nbformat_minor": 4
}
